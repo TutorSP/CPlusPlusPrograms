{
  "cells": [
    {
      "cell_type": "markdown",
      "metadata": {
        "id": "8ShQE5tlrue4"
      },
      "source": [
        "# Time series classification of TC vs NTC\n",
        "\n",
        "**Author:** [Soumyajit Pal](https://scholar.google.com/citations?user=GF-2Z18AAAAJ&hl=en)<br>\n",
        "**Date created:** 2024/11/10<br>\n",
        "**Last modified:** 2024/11/10<br>\n",
        "**Description:** Train a 3D CNN to classify the presence or absence of TC in satellite imagery."
      ]
    },
    {
      "cell_type": "markdown",
      "metadata": {
        "id": "DcwwWbNGrue9"
      },
      "source": [
        "## Introduction\n",
        "\n",
        "This example will show the steps needed to build a 3D convolutional neural network (CNN)\n",
        "to classify the presence or absence of tropical cyclone (TC) in INSAT-3D images. 2D CNNs are\n",
        "commonly used to process RGB images (height, width, 3 [number of channels]) and grayscale images (height, width, 1 [number of channels]). A 3D CNN is simply the three dimensional equivalent: it takes as input a 3D volume or a sequence of 2D frames (e.g. multiple TC images across time). 3D CNNs are a powerful model for learning representations for volumetric data.\n",
        "\n",
        "## References\n",
        "\n",
        "- [A survey on Deep Learning Advances on Different 3D DataRepresentations](https://arxiv.org/abs/1808.01462)\n",
        "- [VoxNet: A 3D Convolutional Neural Network for Real-Time Object Recognition](https://www.ri.cmu.edu/pub_files/2015/9/voxnet_maturana_scherer_iros15.pdf)\n",
        "- [FusionNet: 3D Object Classification Using MultipleData Representations](https://arxiv.org/abs/1607.05695)\n",
        "- [Uniformizing Techniques to Process CT scans with 3D CNNs for Tuberculosis Prediction](https://arxiv.org/abs/2007.13224)"
      ]
    },
    {
      "cell_type": "markdown",
      "metadata": {
        "id": "sgUVTB_rrue-"
      },
      "source": [
        "## Setup"
      ]
    },
    {
      "cell_type": "code",
      "execution_count": 5,
      "metadata": {
        "id": "URbVZdZurue_"
      },
      "outputs": [],
      "source": [
        "import os\n",
        "import cv2\n",
        "import numpy as np\n",
        "import tensorflow as tf  # for data preprocessing\n",
        "import keras\n",
        "from keras import layers"
      ]
    },
    {
      "cell_type": "code",
      "source": [
        "from google.colab import drive\n",
        "drive.mount('/content/drive')"
      ],
      "metadata": {
        "id": "5z1OmhMDxxyw",
        "outputId": "e8d2c35e-26a3-4acb-83b9-241f595b3a09",
        "colab": {
          "base_uri": "https://localhost:8080/"
        }
      },
      "execution_count": 2,
      "outputs": [
        {
          "output_type": "stream",
          "name": "stdout",
          "text": [
            "Mounted at /content/drive\n"
          ]
        }
      ]
    },
    {
      "cell_type": "markdown",
      "metadata": {
        "id": "baJuzZ0BrufA"
      },
      "source": [
        "## Dataset: INSAT-3D images of the TC AMPHAN and INSAT-3D images of the absence of TC.\n",
        "\n",
        "In this example, we use a TC images of the SuCS AMPHAN which occured on May 16, 2020. We also considered non-TC images in the time period May 10, 2020 to May 11, 2020.\n",
        "\n",
        "We will be using the Regional Specialized Meterological Centre (RSMC) reports as labels of the images to build a classifier to predict the presence or absence of TC. Hence, the task is a binary classification problem."
      ]
    },
    {
      "cell_type": "code",
      "execution_count": 4,
      "metadata": {
        "id": "L6txkGhMrufA"
      },
      "outputs": [],
      "source": [
        "path_to_TC = '/content/drive/MyDrive/2020@1_SuCS_AMPHAN'\n",
        "path_to_NTC = ''"
      ]
    },
    {
      "cell_type": "code",
      "source": [
        "X = []\n",
        "temp_series = []\n",
        "width = 64\n",
        "height = 64\n",
        "ws = 6"
      ],
      "metadata": {
        "id": "PMK1FdTl1JaI"
      },
      "execution_count": 17,
      "outputs": []
    },
    {
      "cell_type": "markdown",
      "source": [
        "# Data preparation"
      ],
      "metadata": {
        "id": "h27ggQKC1N5m"
      }
    },
    {
      "cell_type": "code",
      "source": [
        "for img in sorted(os.listdir(path_to_TC)):\n",
        "    s_p = path_to_TC + \"//\" + img\n",
        "    im = cv2.imread(s_p, 0)\n",
        "    X.append(cv2.resize(im, (width, height), interpolation=cv2.INTER_AREA))"
      ],
      "metadata": {
        "id": "lUR_4OBe1JWr"
      },
      "execution_count": 18,
      "outputs": []
    },
    {
      "cell_type": "code",
      "source": [
        "len(X)"
      ],
      "metadata": {
        "id": "hGXaAO5m1JUC",
        "outputId": "3aa2ba07-ce1f-4b4d-88de-b63d6b0595f3",
        "colab": {
          "base_uri": "https://localhost:8080/"
        }
      },
      "execution_count": 19,
      "outputs": [
        {
          "output_type": "execute_result",
          "data": {
            "text/plain": [
              "265"
            ]
          },
          "metadata": {},
          "execution_count": 19
        }
      ]
    },
    {
      "cell_type": "code",
      "source": [
        "# Define a function to check if an image is completely black (all pixel intensities are 255)\n",
        "def is_completely_black(image):\n",
        "    return np.all(image == 0)"
      ],
      "metadata": {
        "id": "r9RYqhoB1JRL"
      },
      "execution_count": 20,
      "outputs": []
    },
    {
      "cell_type": "code",
      "source": [
        "# Include those data points not containing black images\n",
        "temp_series = [X[n:n+ws] for n in range(0, len(X)-(2*ws)+1) if not any(is_completely_black(img) for img in X[n:n+ws])]"
      ],
      "metadata": {
        "id": "xw249b1C16Rm"
      },
      "execution_count": 21,
      "outputs": []
    },
    {
      "cell_type": "code",
      "source": [
        "len(temp_series)"
      ],
      "metadata": {
        "id": "OFmI6RGR16Oc",
        "outputId": "588fa05e-4c3a-42e9-db0f-d5e247da65e7",
        "colab": {
          "base_uri": "https://localhost:8080/"
        }
      },
      "execution_count": 22,
      "outputs": [
        {
          "output_type": "execute_result",
          "data": {
            "text/plain": [
              "222"
            ]
          },
          "metadata": {},
          "execution_count": 22
        }
      ]
    },
    {
      "cell_type": "code",
      "source": [
        "tc_n = np.array(temp_series)"
      ],
      "metadata": {
        "id": "aC7VJ-x316Ly"
      },
      "execution_count": 23,
      "outputs": []
    },
    {
      "cell_type": "code",
      "source": [
        "tc_n.shape"
      ],
      "metadata": {
        "id": "IV-nKtrx16JI",
        "outputId": "a81314e6-a419-4bc9-ec15-48ad2c4ceab8",
        "colab": {
          "base_uri": "https://localhost:8080/"
        }
      },
      "execution_count": 24,
      "outputs": [
        {
          "output_type": "execute_result",
          "data": {
            "text/plain": [
              "(222, 6, 64, 64)"
            ]
          },
          "metadata": {},
          "execution_count": 24
        }
      ]
    },
    {
      "cell_type": "code",
      "source": [
        "tc_n = tc_n / 255.0"
      ],
      "metadata": {
        "id": "s5-NonF23iAx"
      },
      "execution_count": 25,
      "outputs": []
    },
    {
      "cell_type": "code",
      "source": [
        "tc_n = tc_n.reshape(222, ws, width, height, 1)\n",
        "tc_n.shape"
      ],
      "metadata": {
        "id": "xJ8Mdqov3h9X",
        "outputId": "6348155b-7f55-4add-9b14-5c15cbbaf6f1",
        "colab": {
          "base_uri": "https://localhost:8080/"
        }
      },
      "execution_count": 28,
      "outputs": [
        {
          "output_type": "execute_result",
          "data": {
            "text/plain": [
              "(222, 6, 64, 64, 1)"
            ]
          },
          "metadata": {},
          "execution_count": 28
        }
      ]
    },
    {
      "cell_type": "code",
      "source": [
        "np.save('amphan_tc.npy', tc_n)"
      ],
      "metadata": {
        "id": "G_6dVz6C3h6G"
      },
      "execution_count": 29,
      "outputs": []
    },
    {
      "cell_type": "code",
      "source": [],
      "metadata": {
        "id": "Ow9s6Ffa33l1"
      },
      "execution_count": null,
      "outputs": []
    },
    {
      "cell_type": "code",
      "source": [],
      "metadata": {
        "id": "3bOrXoHH33iT"
      },
      "execution_count": null,
      "outputs": []
    },
    {
      "cell_type": "markdown",
      "metadata": {
        "id": "ARojThr7rufA"
      },
      "source": [
        "## Loading data and preprocessing\n",
        "\n",
        "The files are provided in Nifti format with the extension .nii. To read the\n",
        "scans, we use the `nibabel` package.\n",
        "You can install the package via `pip install nibabel`. CT scans store raw voxel\n",
        "intensity in Hounsfield units (HU). They range from -1024 to above 2000 in this dataset.\n",
        "Above 400 are bones with different radiointensity, so this is used as a higher bound. A threshold\n",
        "between -1000 and 400 is commonly used to normalize CT scans.\n",
        "\n",
        "To process the data, we do the following:\n",
        "\n",
        "* We first rotate the volumes by 90 degrees, so the orientation is fixed\n",
        "* We scale the HU values to be between 0 and 1.\n",
        "* We resize width, height and depth.\n",
        "\n",
        "Here we define several helper functions to process the data. These functions\n",
        "will be used when building training and validation datasets."
      ]
    },
    {
      "cell_type": "code",
      "execution_count": null,
      "metadata": {
        "id": "y8i0QT7erufB"
      },
      "outputs": [],
      "source": [
        "\n",
        "import nibabel as nib\n",
        "\n",
        "from scipy import ndimage\n",
        "\n",
        "\n",
        "def read_nifti_file(filepath):\n",
        "    \"\"\"Read and load volume\"\"\"\n",
        "    # Read file\n",
        "    scan = nib.load(filepath)\n",
        "    # Get raw data\n",
        "    scan = scan.get_fdata()\n",
        "    return scan\n",
        "\n",
        "\n",
        "def normalize(volume):\n",
        "    \"\"\"Normalize the volume\"\"\"\n",
        "    min = -1000\n",
        "    max = 400\n",
        "    volume[volume < min] = min\n",
        "    volume[volume > max] = max\n",
        "    volume = (volume - min) / (max - min)\n",
        "    volume = volume.astype(\"float32\")\n",
        "    return volume\n",
        "\n",
        "\n",
        "def resize_volume(img):\n",
        "    \"\"\"Resize across z-axis\"\"\"\n",
        "    # Set the desired depth\n",
        "    desired_depth = 64\n",
        "    desired_width = 128\n",
        "    desired_height = 128\n",
        "    # Get current depth\n",
        "    current_depth = img.shape[-1]\n",
        "    current_width = img.shape[0]\n",
        "    current_height = img.shape[1]\n",
        "    # Compute depth factor\n",
        "    depth = current_depth / desired_depth\n",
        "    width = current_width / desired_width\n",
        "    height = current_height / desired_height\n",
        "    depth_factor = 1 / depth\n",
        "    width_factor = 1 / width\n",
        "    height_factor = 1 / height\n",
        "    # Rotate\n",
        "    img = ndimage.rotate(img, 90, reshape=False)\n",
        "    # Resize across z-axis\n",
        "    img = ndimage.zoom(img, (width_factor, height_factor, depth_factor), order=1)\n",
        "    return img\n",
        "\n",
        "\n",
        "def process_scan(path):\n",
        "    \"\"\"Read and resize volume\"\"\"\n",
        "    # Read scan\n",
        "    volume = read_nifti_file(path)\n",
        "    # Normalize\n",
        "    volume = normalize(volume)\n",
        "    # Resize width, height and depth\n",
        "    volume = resize_volume(volume)\n",
        "    return volume\n"
      ]
    },
    {
      "cell_type": "markdown",
      "metadata": {
        "id": "tE0IA0wirufB"
      },
      "source": [
        "Let's read the paths of the CT scans from the class directories."
      ]
    },
    {
      "cell_type": "code",
      "execution_count": null,
      "metadata": {
        "id": "Ho3cv133rufC"
      },
      "outputs": [],
      "source": [
        "# Folder \"CT-0\" consist of CT scans having normal lung tissue,\n",
        "# no CT-signs of viral pneumonia.\n",
        "normal_scan_paths = [\n",
        "    os.path.join(os.getcwd(), \"MosMedData/CT-0\", x)\n",
        "    for x in os.listdir(\"MosMedData/CT-0\")\n",
        "]\n",
        "# Folder \"CT-23\" consist of CT scans having several ground-glass opacifications,\n",
        "# involvement of lung parenchyma.\n",
        "abnormal_scan_paths = [\n",
        "    os.path.join(os.getcwd(), \"MosMedData/CT-23\", x)\n",
        "    for x in os.listdir(\"MosMedData/CT-23\")\n",
        "]\n",
        "\n",
        "print(\"CT scans with normal lung tissue: \" + str(len(normal_scan_paths)))\n",
        "print(\"CT scans with abnormal lung tissue: \" + str(len(abnormal_scan_paths)))\n"
      ]
    },
    {
      "cell_type": "markdown",
      "metadata": {
        "id": "zD6BErI-rufC"
      },
      "source": [
        "## Build train and validation datasets\n",
        "Read the scans from the class directories and assign labels. Downsample the scans to have\n",
        "shape of 128x128x64. Rescale the raw HU values to the range 0 to 1.\n",
        "Lastly, split the dataset into train and validation subsets."
      ]
    },
    {
      "cell_type": "code",
      "execution_count": null,
      "metadata": {
        "id": "ddI5-VIMrufC"
      },
      "outputs": [],
      "source": [
        "# Read and process the scans.\n",
        "# Each scan is resized across height, width, and depth and rescaled.\n",
        "abnormal_scans = np.array([process_scan(path) for path in abnormal_scan_paths])\n",
        "normal_scans = np.array([process_scan(path) for path in normal_scan_paths])\n",
        "\n",
        "# For the CT scans having presence of viral pneumonia\n",
        "# assign 1, for the normal ones assign 0.\n",
        "abnormal_labels = np.array([1 for _ in range(len(abnormal_scans))])\n",
        "normal_labels = np.array([0 for _ in range(len(normal_scans))])\n",
        "\n",
        "# Split data in the ratio 70-30 for training and validation.\n",
        "x_train = np.concatenate((abnormal_scans[:70], normal_scans[:70]), axis=0)\n",
        "y_train = np.concatenate((abnormal_labels[:70], normal_labels[:70]), axis=0)\n",
        "x_val = np.concatenate((abnormal_scans[70:], normal_scans[70:]), axis=0)\n",
        "y_val = np.concatenate((abnormal_labels[70:], normal_labels[70:]), axis=0)\n",
        "print(\n",
        "    \"Number of samples in train and validation are %d and %d.\"\n",
        "    % (x_train.shape[0], x_val.shape[0])\n",
        ")"
      ]
    },
    {
      "cell_type": "markdown",
      "metadata": {
        "id": "1_mriOLBrufC"
      },
      "source": [
        "## Data augmentation\n",
        "\n",
        "The CT scans also augmented by rotating at random angles during training. Since\n",
        "the data is stored in rank-3 tensors of shape `(samples, height, width, depth)`,\n",
        "we add a dimension of size 1 at axis 4 to be able to perform 3D convolutions on\n",
        "the data. The new shape is thus `(samples, height, width, depth, 1)`. There are\n",
        "different kinds of preprocessing and augmentation techniques out there,\n",
        "this example shows a few simple ones to get started."
      ]
    },
    {
      "cell_type": "code",
      "execution_count": null,
      "metadata": {
        "id": "bjh2VEZBrufD"
      },
      "outputs": [],
      "source": [
        "import random\n",
        "\n",
        "from scipy import ndimage\n",
        "\n",
        "\n",
        "def rotate(volume):\n",
        "    \"\"\"Rotate the volume by a few degrees\"\"\"\n",
        "\n",
        "    def scipy_rotate(volume):\n",
        "        # define some rotation angles\n",
        "        angles = [-20, -10, -5, 5, 10, 20]\n",
        "        # pick angles at random\n",
        "        angle = random.choice(angles)\n",
        "        # rotate volume\n",
        "        volume = ndimage.rotate(volume, angle, reshape=False)\n",
        "        volume[volume < 0] = 0\n",
        "        volume[volume > 1] = 1\n",
        "        return volume\n",
        "\n",
        "    augmented_volume = tf.numpy_function(scipy_rotate, [volume], tf.float32)\n",
        "    return augmented_volume\n",
        "\n",
        "\n",
        "def train_preprocessing(volume, label):\n",
        "    \"\"\"Process training data by rotating and adding a channel.\"\"\"\n",
        "    # Rotate volume\n",
        "    volume = rotate(volume)\n",
        "    volume = tf.expand_dims(volume, axis=3)\n",
        "    return volume, label\n",
        "\n",
        "\n",
        "def validation_preprocessing(volume, label):\n",
        "    \"\"\"Process validation data by only adding a channel.\"\"\"\n",
        "    volume = tf.expand_dims(volume, axis=3)\n",
        "    return volume, label\n"
      ]
    },
    {
      "cell_type": "markdown",
      "metadata": {
        "id": "9QbuaI0KrufD"
      },
      "source": [
        "While defining the train and validation data loader, the training data is passed through\n",
        "and augmentation function which randomly rotates volume at different angles. Note that both\n",
        "training and validation data are already rescaled to have values between 0 and 1."
      ]
    },
    {
      "cell_type": "code",
      "execution_count": null,
      "metadata": {
        "id": "GRAmZFKNrufD"
      },
      "outputs": [],
      "source": [
        "# Define data loaders.\n",
        "train_loader = tf.data.Dataset.from_tensor_slices((x_train, y_train))\n",
        "validation_loader = tf.data.Dataset.from_tensor_slices((x_val, y_val))\n",
        "\n",
        "batch_size = 2\n",
        "# Augment the on the fly during training.\n",
        "train_dataset = (\n",
        "    train_loader.shuffle(len(x_train))\n",
        "    .map(train_preprocessing)\n",
        "    .batch(batch_size)\n",
        "    .prefetch(2)\n",
        ")\n",
        "# Only rescale.\n",
        "validation_dataset = (\n",
        "    validation_loader.shuffle(len(x_val))\n",
        "    .map(validation_preprocessing)\n",
        "    .batch(batch_size)\n",
        "    .prefetch(2)\n",
        ")"
      ]
    },
    {
      "cell_type": "markdown",
      "metadata": {
        "id": "D79Cyo5rrufD"
      },
      "source": [
        "Visualize an augmented CT scan."
      ]
    },
    {
      "cell_type": "code",
      "execution_count": null,
      "metadata": {
        "id": "xIAtXxH1rufD"
      },
      "outputs": [],
      "source": [
        "import matplotlib.pyplot as plt\n",
        "\n",
        "data = train_dataset.take(1)\n",
        "images, labels = list(data)[0]\n",
        "images = images.numpy()\n",
        "image = images[0]\n",
        "print(\"Dimension of the CT scan is:\", image.shape)\n",
        "plt.imshow(np.squeeze(image[:, :, 30]), cmap=\"gray\")\n"
      ]
    },
    {
      "cell_type": "markdown",
      "metadata": {
        "id": "X_oDv7TSrufD"
      },
      "source": [
        "Since a CT scan has many slices, let's visualize a montage of the slices."
      ]
    },
    {
      "cell_type": "code",
      "execution_count": null,
      "metadata": {
        "id": "dfIZQc-JrufD"
      },
      "outputs": [],
      "source": [
        "\n",
        "def plot_slices(num_rows, num_columns, width, height, data):\n",
        "    \"\"\"Plot a montage of 20 CT slices\"\"\"\n",
        "    data = np.rot90(np.array(data))\n",
        "    data = np.transpose(data)\n",
        "    data = np.reshape(data, (num_rows, num_columns, width, height))\n",
        "    rows_data, columns_data = data.shape[0], data.shape[1]\n",
        "    heights = [slc[0].shape[0] for slc in data]\n",
        "    widths = [slc.shape[1] for slc in data[0]]\n",
        "    fig_width = 12.0\n",
        "    fig_height = fig_width * sum(heights) / sum(widths)\n",
        "    f, axarr = plt.subplots(\n",
        "        rows_data,\n",
        "        columns_data,\n",
        "        figsize=(fig_width, fig_height),\n",
        "        gridspec_kw={\"height_ratios\": heights},\n",
        "    )\n",
        "    for i in range(rows_data):\n",
        "        for j in range(columns_data):\n",
        "            axarr[i, j].imshow(data[i][j], cmap=\"gray\")\n",
        "            axarr[i, j].axis(\"off\")\n",
        "    plt.subplots_adjust(wspace=0, hspace=0, left=0, right=1, bottom=0, top=1)\n",
        "    plt.show()\n",
        "\n",
        "\n",
        "# Visualize montage of slices.\n",
        "# 4 rows and 10 columns for 100 slices of the CT scan.\n",
        "plot_slices(4, 10, 128, 128, image[:, :, :40])"
      ]
    },
    {
      "cell_type": "markdown",
      "metadata": {
        "id": "4mYuzWKJrufE"
      },
      "source": [
        "## Define a 3D convolutional neural network\n",
        "\n",
        "To make the model easier to understand, we structure it into blocks.\n",
        "The architecture of the 3D CNN used in this example\n",
        "is based on [this paper](https://arxiv.org/abs/2007.13224)."
      ]
    },
    {
      "cell_type": "code",
      "execution_count": null,
      "metadata": {
        "id": "5vqYgm2ErufE"
      },
      "outputs": [],
      "source": [
        "\n",
        "def get_model(width=128, height=128, depth=64):\n",
        "    \"\"\"Build a 3D convolutional neural network model.\"\"\"\n",
        "\n",
        "    inputs = keras.Input((width, height, depth, 1))\n",
        "\n",
        "    x = layers.Conv3D(filters=64, kernel_size=3, activation=\"relu\")(inputs)\n",
        "    x = layers.MaxPool3D(pool_size=2)(x)\n",
        "    x = layers.BatchNormalization()(x)\n",
        "\n",
        "    x = layers.Conv3D(filters=64, kernel_size=3, activation=\"relu\")(x)\n",
        "    x = layers.MaxPool3D(pool_size=2)(x)\n",
        "    x = layers.BatchNormalization()(x)\n",
        "\n",
        "    x = layers.Conv3D(filters=128, kernel_size=3, activation=\"relu\")(x)\n",
        "    x = layers.MaxPool3D(pool_size=2)(x)\n",
        "    x = layers.BatchNormalization()(x)\n",
        "\n",
        "    x = layers.Conv3D(filters=256, kernel_size=3, activation=\"relu\")(x)\n",
        "    x = layers.MaxPool3D(pool_size=2)(x)\n",
        "    x = layers.BatchNormalization()(x)\n",
        "\n",
        "    x = layers.GlobalAveragePooling3D()(x)\n",
        "    x = layers.Dense(units=512, activation=\"relu\")(x)\n",
        "    x = layers.Dropout(0.3)(x)\n",
        "\n",
        "    outputs = layers.Dense(units=1, activation=\"sigmoid\")(x)\n",
        "\n",
        "    # Define the model.\n",
        "    model = keras.Model(inputs, outputs, name=\"3dcnn\")\n",
        "    return model\n",
        "\n",
        "\n",
        "# Build model.\n",
        "model = get_model(width=128, height=128, depth=64)\n",
        "model.summary()"
      ]
    },
    {
      "cell_type": "markdown",
      "metadata": {
        "id": "hL87FFncrufE"
      },
      "source": [
        "## Train model"
      ]
    },
    {
      "cell_type": "code",
      "execution_count": null,
      "metadata": {
        "id": "rgId-X0wrufE"
      },
      "outputs": [],
      "source": [
        "# Compile model.\n",
        "initial_learning_rate = 0.0001\n",
        "lr_schedule = keras.optimizers.schedules.ExponentialDecay(\n",
        "    initial_learning_rate, decay_steps=100000, decay_rate=0.96, staircase=True\n",
        ")\n",
        "model.compile(\n",
        "    loss=\"binary_crossentropy\",\n",
        "    optimizer=keras.optimizers.Adam(learning_rate=lr_schedule),\n",
        "    metrics=[\"acc\"],\n",
        "    run_eagerly=True,\n",
        ")\n",
        "\n",
        "# Define callbacks.\n",
        "checkpoint_cb = keras.callbacks.ModelCheckpoint(\n",
        "    \"3d_image_classification.keras\", save_best_only=True\n",
        ")\n",
        "early_stopping_cb = keras.callbacks.EarlyStopping(monitor=\"val_acc\", patience=15)\n",
        "\n",
        "# Train the model, doing validation at the end of each epoch\n",
        "epochs = 100\n",
        "model.fit(\n",
        "    train_dataset,\n",
        "    validation_data=validation_dataset,\n",
        "    epochs=epochs,\n",
        "    shuffle=True,\n",
        "    verbose=2,\n",
        "    callbacks=[checkpoint_cb, early_stopping_cb],\n",
        ")"
      ]
    },
    {
      "cell_type": "markdown",
      "metadata": {
        "id": "eRyMfs62rufE"
      },
      "source": [
        "It is important to note that the number of samples is very small (only 200) and we don't\n",
        "specify a random seed. As such, you can expect significant variance in the results. The full dataset\n",
        "which consists of over 1000 CT scans can be found [here](https://www.medrxiv.org/content/10.1101/2020.05.20.20100362v1). Using the full\n",
        "dataset, an accuracy of 83% was achieved. A variability of 6-7% in the classification\n",
        "performance is observed in both cases."
      ]
    },
    {
      "cell_type": "markdown",
      "metadata": {
        "id": "dlveKabCrufE"
      },
      "source": [
        "## Visualizing model performance\n",
        "\n",
        "Here the model accuracy and loss for the training and the validation sets are plotted.\n",
        "Since the validation set is class-balanced, accuracy provides an unbiased representation\n",
        "of the model's performance."
      ]
    },
    {
      "cell_type": "code",
      "execution_count": null,
      "metadata": {
        "id": "5_zimV59rufF"
      },
      "outputs": [],
      "source": [
        "fig, ax = plt.subplots(1, 2, figsize=(20, 3))\n",
        "ax = ax.ravel()\n",
        "\n",
        "for i, metric in enumerate([\"acc\", \"loss\"]):\n",
        "    ax[i].plot(model.history.history[metric])\n",
        "    ax[i].plot(model.history.history[\"val_\" + metric])\n",
        "    ax[i].set_title(\"Model {}\".format(metric))\n",
        "    ax[i].set_xlabel(\"epochs\")\n",
        "    ax[i].set_ylabel(metric)\n",
        "    ax[i].legend([\"train\", \"val\"])"
      ]
    },
    {
      "cell_type": "markdown",
      "metadata": {
        "id": "SbszzyYurufF"
      },
      "source": [
        "## Make predictions on a single CT scan"
      ]
    },
    {
      "cell_type": "code",
      "execution_count": null,
      "metadata": {
        "id": "lyBeUrj9rufF"
      },
      "outputs": [],
      "source": [
        "# Load best weights.\n",
        "model.load_weights(\"3d_image_classification.keras\")\n",
        "prediction = model.predict(np.expand_dims(x_val[0], axis=0))[0]\n",
        "scores = [1 - prediction[0], prediction[0]]\n",
        "\n",
        "class_names = [\"normal\", \"abnormal\"]\n",
        "for score, name in zip(scores, class_names):\n",
        "    print(\n",
        "        \"This model is %.2f percent confident that CT scan is %s\"\n",
        "        % ((100 * score), name)\n",
        "    )"
      ]
    }
  ],
  "metadata": {
    "accelerator": "GPU",
    "colab": {
      "name": "3D_image_classification",
      "provenance": []
    },
    "kernelspec": {
      "display_name": "Python 3",
      "language": "python",
      "name": "python3"
    },
    "language_info": {
      "codemirror_mode": {
        "name": "ipython",
        "version": 3
      },
      "file_extension": ".py",
      "mimetype": "text/x-python",
      "name": "python",
      "nbconvert_exporter": "python",
      "pygments_lexer": "ipython3",
      "version": "3.7.0"
    }
  },
  "nbformat": 4,
  "nbformat_minor": 0
}